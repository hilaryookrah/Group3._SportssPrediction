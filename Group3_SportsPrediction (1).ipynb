{
  "cells": [
    {
      "cell_type": "code",
      "execution_count": 1,
      "metadata": {
        "id": "EJpamVo9YyD1",
        "colab": {
          "base_uri": "https://localhost:8080/"
        },
        "outputId": "2f1ca3e9-f312-409f-b430-c347be74aa1a"
      },
      "outputs": [
        {
          "output_type": "stream",
          "name": "stdout",
          "text": [
            "Drive already mounted at /content/drive; to attempt to forcibly remount, call drive.mount(\"/content/drive\", force_remount=True).\n"
          ]
        }
      ],
      "source": [
        "#import libraries\n",
        "import os\n",
        "import sklearn\n",
        "import numpy as np\n",
        "import pandas as pd\n",
        "import matplotlib.pyplot as plt\n",
        "from sklearn import tree, metrics\n",
        "from sklearn.impute import SimpleImputer\n",
        "from sklearn.model_selection import train_test_split\n",
        "from google.colab import drive\n",
        "drive.mount('/content/drive')"
      ]
    },
    {
      "cell_type": "code",
      "execution_count": 2,
      "metadata": {
        "id": "wCzoW3jddsqK"
      },
      "outputs": [],
      "source": [
        "from sklearn.model_selection import cross_val_score\n",
        "from sklearn.ensemble import RandomForestRegressor\n",
        "from sklearn.metrics import mean_squared_error\n",
        "from sklearn.metrics import mean_absolute_error\n"
      ]
    },
    {
      "cell_type": "code",
      "execution_count": 42,
      "metadata": {
        "id": "rT82LFbFY33a"
      },
      "outputs": [],
      "source": [
        "sports_data_21=pd.read_csv('/content/drive/MyDrive/MIDSEM PROJECT/players_21.csv')#train"
      ]
    },
    {
      "cell_type": "code",
      "execution_count": 43,
      "metadata": {
        "colab": {
          "base_uri": "https://localhost:8080/"
        },
        "id": "FmapQrCU4XL5",
        "outputId": "8dc99d37-24f2-42fa-d68a-f171d937c239"
      },
      "outputs": [
        {
          "output_type": "stream",
          "name": "stdout",
          "text": [
            "<class 'pandas.core.frame.DataFrame'>\n",
            "RangeIndex: 18944 entries, 0 to 18943\n",
            "Columns: 110 entries, sofifa_id to nation_flag_url\n",
            "dtypes: float64(16), int64(44), object(50)\n",
            "memory usage: 15.9+ MB\n"
          ]
        }
      ],
      "source": [
        "sports_data_21.info()"
      ]
    },
    {
      "cell_type": "markdown",
      "metadata": {
        "id": "VlSHKhKd5tKV"
      },
      "source": [
        "Drop features with 30% NaN"
      ]
    },
    {
      "cell_type": "code",
      "execution_count": 44,
      "metadata": {
        "id": "Y2NI6E7-8U6c"
      },
      "outputs": [],
      "source": [
        "threshold = 0.30 * len(sports_data_21)\n",
        "\n",
        "# Identify columns with 30% or more NaN values\n",
        "columns_with_nan = sports_data_21.columns[sports_data_21.isna().sum() >= threshold]\n",
        "\n",
        "# Drop the identified columns\n",
        "sports_data_21.drop(columns=columns_with_nan, inplace=True)"
      ]
    },
    {
      "cell_type": "markdown",
      "metadata": {
        "id": "PBZFtiJ49ob6"
      },
      "source": [
        "Getting numerical and object columns"
      ]
    },
    {
      "cell_type": "code",
      "execution_count": 45,
      "metadata": {
        "id": "nTvdGvGO9KOP"
      },
      "outputs": [],
      "source": [
        "numerical_columns = sports_data_21.select_dtypes(include=['int64', 'float64'])"
      ]
    },
    {
      "cell_type": "code",
      "execution_count": 46,
      "metadata": {
        "id": "hz2R_VkD3Kdu"
      },
      "outputs": [],
      "source": [
        "object_columns = sports_data_21.select_dtypes(include=['object']).columns"
      ]
    },
    {
      "cell_type": "code",
      "execution_count": 47,
      "metadata": {
        "colab": {
          "base_uri": "https://localhost:8080/"
        },
        "id": "4ZksuJl43dzm",
        "outputId": "92136c7a-fd93-46f7-bb74-25a70e309dcb"
      },
      "outputs": [
        {
          "output_type": "execute_result",
          "data": {
            "text/plain": [
              "Index(['player_url', 'short_name', 'long_name', 'player_positions', 'dob',\n",
              "       'club_name', 'league_name', 'club_position', 'club_joined',\n",
              "       'nationality_name', 'preferred_foot', 'work_rate', 'body_type',\n",
              "       'real_face', 'ls', 'st', 'rs', 'lw', 'lf', 'cf', 'rf', 'rw', 'lam',\n",
              "       'cam', 'ram', 'lm', 'lcm', 'cm', 'rcm', 'rm', 'lwb', 'ldm', 'cdm',\n",
              "       'rdm', 'rwb', 'lb', 'lcb', 'cb', 'rcb', 'rb', 'gk', 'player_face_url',\n",
              "       'club_logo_url', 'club_flag_url', 'nation_flag_url'],\n",
              "      dtype='object')"
            ]
          },
          "metadata": {},
          "execution_count": 47
        }
      ],
      "source": [
        "object_columns"
      ]
    },
    {
      "cell_type": "markdown",
      "metadata": {
        "id": "b1wrqx1659nO"
      },
      "source": [
        "Encoding object columns"
      ]
    },
    {
      "cell_type": "code",
      "execution_count": 48,
      "metadata": {
        "id": "OmaN_uqQ-VB7"
      },
      "outputs": [],
      "source": [
        "for column in object_columns:\n",
        "    sports_data_21[column] = pd.factorize(sports_data_21[column])[0]\n"
      ]
    },
    {
      "cell_type": "markdown",
      "metadata": {
        "id": "gDYWORRb7uDm"
      },
      "source": [
        "Imputing  columns"
      ]
    },
    {
      "cell_type": "code",
      "execution_count": 49,
      "metadata": {
        "id": "hwmGb9sy7w83"
      },
      "outputs": [],
      "source": [
        "# Create a SimpleImputer instance with your chosen strategy\n",
        "imputer = SimpleImputer(strategy='mean')\n",
        "\n",
        "# Iterate over columns and impute\n",
        "for column in sports_data_21:\n",
        "    sports_data_21[column] = imputer.fit_transform(sports_data_21[[column]])\n"
      ]
    },
    {
      "cell_type": "code",
      "execution_count": 50,
      "metadata": {
        "id": "NJHDAhLnHD6I",
        "colab": {
          "base_uri": "https://localhost:8080/"
        },
        "outputId": "1e38e9f7-3dfe-4436-ae34-295337d654f8"
      },
      "outputs": [
        {
          "output_type": "execute_result",
          "data": {
            "text/plain": [
              "sofifa_id           False\n",
              "player_url          False\n",
              "short_name          False\n",
              "long_name           False\n",
              "player_positions    False\n",
              "                    ...  \n",
              "gk                  False\n",
              "player_face_url     False\n",
              "club_logo_url       False\n",
              "club_flag_url       False\n",
              "nation_flag_url     False\n",
              "Length: 102, dtype: bool"
            ]
          },
          "metadata": {},
          "execution_count": 50
        }
      ],
      "source": [
        "sports_data_21.isna().any() #Check if there are any NaNs"
      ]
    },
    {
      "cell_type": "code",
      "execution_count": 51,
      "metadata": {
        "id": "KBzwm1BEZ6pP",
        "colab": {
          "base_uri": "https://localhost:8080/"
        },
        "outputId": "3b4fc533-a879-4900-8c19-58ae409b6326"
      },
      "outputs": [
        {
          "output_type": "execute_result",
          "data": {
            "text/plain": [
              "overall                1.000000\n",
              "movement_reactions     0.867234\n",
              "mentality_composure    0.705252\n",
              "passing                0.662090\n",
              "potential              0.636366\n",
              "                         ...   \n",
              "dob                   -0.595900\n",
              "short_name            -0.923514\n",
              "long_name             -0.974388\n",
              "player_face_url       -0.975045\n",
              "player_url            -0.975045\n",
              "Name: overall, Length: 102, dtype: float64"
            ]
          },
          "metadata": {},
          "execution_count": 51
        }
      ],
      "source": [
        "c = sports_data_21.corr()\n",
        "c[\"overall\"].sort_values(ascending=False)"
      ]
    },
    {
      "cell_type": "code",
      "execution_count": 52,
      "metadata": {
        "id": "_JivygUDZN9Z"
      },
      "outputs": [],
      "source": [
        "#Using correlation values greater than 0.4 we selected these\n",
        "s =['overall','movement_reactions','passing','mentality_composure','dribbling','release_clause_eur','wage_eur','value_eur','power_shot_power','physic','mentality_vision',\n",
        "           'attacking_short_passing','shooting','skill_long_passing','age','skill_ball_control','international_reputation','skill_curve','attacking_crossing']"
      ]
    },
    {
      "cell_type": "code",
      "execution_count": 53,
      "metadata": {
        "id": "CqjMflm1-JKU"
      },
      "outputs": [],
      "source": [
        "#We picked the top 10\n",
        "selected =['overall','movement_reactions','passing','dribbling','age','mentality_composure','release_clause_eur','power_shot_power','wage_eur','value_eur']"
      ]
    },
    {
      "cell_type": "code",
      "execution_count": 54,
      "metadata": {
        "id": "25aCJuBWZXIi"
      },
      "outputs": [],
      "source": [
        "sports_data_21 = sports_data_21[selected]"
      ]
    },
    {
      "cell_type": "code",
      "source": [
        "c = sports_data_21.corr()\n",
        "c[\"overall\"].sort_values(ascending=False)"
      ],
      "metadata": {
        "colab": {
          "base_uri": "https://localhost:8080/"
        },
        "id": "BBqctmDr_4cS",
        "outputId": "68cbc9bd-9265-4127-bbe3-ed73f05f1e6d"
      },
      "execution_count": 55,
      "outputs": [
        {
          "output_type": "execute_result",
          "data": {
            "text/plain": [
              "overall                1.000000\n",
              "movement_reactions     0.867234\n",
              "mentality_composure    0.705252\n",
              "passing                0.662090\n",
              "release_clause_eur     0.614344\n",
              "dribbling              0.596558\n",
              "wage_eur               0.589060\n",
              "power_shot_power       0.558372\n",
              "value_eur              0.555192\n",
              "age                    0.468197\n",
              "Name: overall, dtype: float64"
            ]
          },
          "metadata": {},
          "execution_count": 55
        }
      ]
    },
    {
      "cell_type": "code",
      "execution_count": 56,
      "metadata": {
        "id": "uOtxEgTibO7i",
        "colab": {
          "base_uri": "https://localhost:8080/",
          "height": 226
        },
        "outputId": "3e1aa3fb-257b-4356-ea8d-fa05d4c861dd"
      },
      "outputs": [
        {
          "output_type": "execute_result",
          "data": {
            "text/plain": [
              "   overall  movement_reactions  passing  dribbling   age  mentality_composure  \\\n",
              "0     93.0                94.0     91.0       95.0  33.0                 96.0   \n",
              "1     92.0                95.0     81.0       89.0  35.0                 95.0   \n",
              "2     91.0                93.0     78.0       85.0  31.0                 88.0   \n",
              "3     91.0                91.0     86.0       94.0  28.0                 93.0   \n",
              "4     91.0                91.0     93.0       88.0  29.0                 91.0   \n",
              "\n",
              "   release_clause_eur  power_shot_power  wage_eur    value_eur  \n",
              "0         138400000.0              86.0  560000.0  103500000.0  \n",
              "1          75900000.0              94.0  220000.0   63000000.0  \n",
              "2         132000000.0              89.0  240000.0  111000000.0  \n",
              "3         166500000.0              80.0  270000.0  132000000.0  \n",
              "4         161000000.0              91.0  370000.0  129000000.0  "
            ],
            "text/html": [
              "\n",
              "  <div id=\"df-4e96ade9-07d2-4255-805b-f50d992240a0\" class=\"colab-df-container\">\n",
              "    <div>\n",
              "<style scoped>\n",
              "    .dataframe tbody tr th:only-of-type {\n",
              "        vertical-align: middle;\n",
              "    }\n",
              "\n",
              "    .dataframe tbody tr th {\n",
              "        vertical-align: top;\n",
              "    }\n",
              "\n",
              "    .dataframe thead th {\n",
              "        text-align: right;\n",
              "    }\n",
              "</style>\n",
              "<table border=\"1\" class=\"dataframe\">\n",
              "  <thead>\n",
              "    <tr style=\"text-align: right;\">\n",
              "      <th></th>\n",
              "      <th>overall</th>\n",
              "      <th>movement_reactions</th>\n",
              "      <th>passing</th>\n",
              "      <th>dribbling</th>\n",
              "      <th>age</th>\n",
              "      <th>mentality_composure</th>\n",
              "      <th>release_clause_eur</th>\n",
              "      <th>power_shot_power</th>\n",
              "      <th>wage_eur</th>\n",
              "      <th>value_eur</th>\n",
              "    </tr>\n",
              "  </thead>\n",
              "  <tbody>\n",
              "    <tr>\n",
              "      <th>0</th>\n",
              "      <td>93.0</td>\n",
              "      <td>94.0</td>\n",
              "      <td>91.0</td>\n",
              "      <td>95.0</td>\n",
              "      <td>33.0</td>\n",
              "      <td>96.0</td>\n",
              "      <td>138400000.0</td>\n",
              "      <td>86.0</td>\n",
              "      <td>560000.0</td>\n",
              "      <td>103500000.0</td>\n",
              "    </tr>\n",
              "    <tr>\n",
              "      <th>1</th>\n",
              "      <td>92.0</td>\n",
              "      <td>95.0</td>\n",
              "      <td>81.0</td>\n",
              "      <td>89.0</td>\n",
              "      <td>35.0</td>\n",
              "      <td>95.0</td>\n",
              "      <td>75900000.0</td>\n",
              "      <td>94.0</td>\n",
              "      <td>220000.0</td>\n",
              "      <td>63000000.0</td>\n",
              "    </tr>\n",
              "    <tr>\n",
              "      <th>2</th>\n",
              "      <td>91.0</td>\n",
              "      <td>93.0</td>\n",
              "      <td>78.0</td>\n",
              "      <td>85.0</td>\n",
              "      <td>31.0</td>\n",
              "      <td>88.0</td>\n",
              "      <td>132000000.0</td>\n",
              "      <td>89.0</td>\n",
              "      <td>240000.0</td>\n",
              "      <td>111000000.0</td>\n",
              "    </tr>\n",
              "    <tr>\n",
              "      <th>3</th>\n",
              "      <td>91.0</td>\n",
              "      <td>91.0</td>\n",
              "      <td>86.0</td>\n",
              "      <td>94.0</td>\n",
              "      <td>28.0</td>\n",
              "      <td>93.0</td>\n",
              "      <td>166500000.0</td>\n",
              "      <td>80.0</td>\n",
              "      <td>270000.0</td>\n",
              "      <td>132000000.0</td>\n",
              "    </tr>\n",
              "    <tr>\n",
              "      <th>4</th>\n",
              "      <td>91.0</td>\n",
              "      <td>91.0</td>\n",
              "      <td>93.0</td>\n",
              "      <td>88.0</td>\n",
              "      <td>29.0</td>\n",
              "      <td>91.0</td>\n",
              "      <td>161000000.0</td>\n",
              "      <td>91.0</td>\n",
              "      <td>370000.0</td>\n",
              "      <td>129000000.0</td>\n",
              "    </tr>\n",
              "  </tbody>\n",
              "</table>\n",
              "</div>\n",
              "    <div class=\"colab-df-buttons\">\n",
              "\n",
              "  <div class=\"colab-df-container\">\n",
              "    <button class=\"colab-df-convert\" onclick=\"convertToInteractive('df-4e96ade9-07d2-4255-805b-f50d992240a0')\"\n",
              "            title=\"Convert this dataframe to an interactive table.\"\n",
              "            style=\"display:none;\">\n",
              "\n",
              "  <svg xmlns=\"http://www.w3.org/2000/svg\" height=\"24px\" viewBox=\"0 -960 960 960\">\n",
              "    <path d=\"M120-120v-720h720v720H120Zm60-500h600v-160H180v160Zm220 220h160v-160H400v160Zm0 220h160v-160H400v160ZM180-400h160v-160H180v160Zm440 0h160v-160H620v160ZM180-180h160v-160H180v160Zm440 0h160v-160H620v160Z\"/>\n",
              "  </svg>\n",
              "    </button>\n",
              "\n",
              "  <style>\n",
              "    .colab-df-container {\n",
              "      display:flex;\n",
              "      gap: 12px;\n",
              "    }\n",
              "\n",
              "    .colab-df-convert {\n",
              "      background-color: #E8F0FE;\n",
              "      border: none;\n",
              "      border-radius: 50%;\n",
              "      cursor: pointer;\n",
              "      display: none;\n",
              "      fill: #1967D2;\n",
              "      height: 32px;\n",
              "      padding: 0 0 0 0;\n",
              "      width: 32px;\n",
              "    }\n",
              "\n",
              "    .colab-df-convert:hover {\n",
              "      background-color: #E2EBFA;\n",
              "      box-shadow: 0px 1px 2px rgba(60, 64, 67, 0.3), 0px 1px 3px 1px rgba(60, 64, 67, 0.15);\n",
              "      fill: #174EA6;\n",
              "    }\n",
              "\n",
              "    .colab-df-buttons div {\n",
              "      margin-bottom: 4px;\n",
              "    }\n",
              "\n",
              "    [theme=dark] .colab-df-convert {\n",
              "      background-color: #3B4455;\n",
              "      fill: #D2E3FC;\n",
              "    }\n",
              "\n",
              "    [theme=dark] .colab-df-convert:hover {\n",
              "      background-color: #434B5C;\n",
              "      box-shadow: 0px 1px 3px 1px rgba(0, 0, 0, 0.15);\n",
              "      filter: drop-shadow(0px 1px 2px rgba(0, 0, 0, 0.3));\n",
              "      fill: #FFFFFF;\n",
              "    }\n",
              "  </style>\n",
              "\n",
              "    <script>\n",
              "      const buttonEl =\n",
              "        document.querySelector('#df-4e96ade9-07d2-4255-805b-f50d992240a0 button.colab-df-convert');\n",
              "      buttonEl.style.display =\n",
              "        google.colab.kernel.accessAllowed ? 'block' : 'none';\n",
              "\n",
              "      async function convertToInteractive(key) {\n",
              "        const element = document.querySelector('#df-4e96ade9-07d2-4255-805b-f50d992240a0');\n",
              "        const dataTable =\n",
              "          await google.colab.kernel.invokeFunction('convertToInteractive',\n",
              "                                                    [key], {});\n",
              "        if (!dataTable) return;\n",
              "\n",
              "        const docLinkHtml = 'Like what you see? Visit the ' +\n",
              "          '<a target=\"_blank\" href=https://colab.research.google.com/notebooks/data_table.ipynb>data table notebook</a>'\n",
              "          + ' to learn more about interactive tables.';\n",
              "        element.innerHTML = '';\n",
              "        dataTable['output_type'] = 'display_data';\n",
              "        await google.colab.output.renderOutput(dataTable, element);\n",
              "        const docLink = document.createElement('div');\n",
              "        docLink.innerHTML = docLinkHtml;\n",
              "        element.appendChild(docLink);\n",
              "      }\n",
              "    </script>\n",
              "  </div>\n",
              "\n",
              "\n",
              "<div id=\"df-fc4dbc49-4648-4c5b-97a8-2a91f85d883e\">\n",
              "  <button class=\"colab-df-quickchart\" onclick=\"quickchart('df-fc4dbc49-4648-4c5b-97a8-2a91f85d883e')\"\n",
              "            title=\"Suggest charts.\"\n",
              "            style=\"display:none;\">\n",
              "\n",
              "<svg xmlns=\"http://www.w3.org/2000/svg\" height=\"24px\"viewBox=\"0 0 24 24\"\n",
              "     width=\"24px\">\n",
              "    <g>\n",
              "        <path d=\"M19 3H5c-1.1 0-2 .9-2 2v14c0 1.1.9 2 2 2h14c1.1 0 2-.9 2-2V5c0-1.1-.9-2-2-2zM9 17H7v-7h2v7zm4 0h-2V7h2v10zm4 0h-2v-4h2v4z\"/>\n",
              "    </g>\n",
              "</svg>\n",
              "  </button>\n",
              "\n",
              "<style>\n",
              "  .colab-df-quickchart {\n",
              "      --bg-color: #E8F0FE;\n",
              "      --fill-color: #1967D2;\n",
              "      --hover-bg-color: #E2EBFA;\n",
              "      --hover-fill-color: #174EA6;\n",
              "      --disabled-fill-color: #AAA;\n",
              "      --disabled-bg-color: #DDD;\n",
              "  }\n",
              "\n",
              "  [theme=dark] .colab-df-quickchart {\n",
              "      --bg-color: #3B4455;\n",
              "      --fill-color: #D2E3FC;\n",
              "      --hover-bg-color: #434B5C;\n",
              "      --hover-fill-color: #FFFFFF;\n",
              "      --disabled-bg-color: #3B4455;\n",
              "      --disabled-fill-color: #666;\n",
              "  }\n",
              "\n",
              "  .colab-df-quickchart {\n",
              "    background-color: var(--bg-color);\n",
              "    border: none;\n",
              "    border-radius: 50%;\n",
              "    cursor: pointer;\n",
              "    display: none;\n",
              "    fill: var(--fill-color);\n",
              "    height: 32px;\n",
              "    padding: 0;\n",
              "    width: 32px;\n",
              "  }\n",
              "\n",
              "  .colab-df-quickchart:hover {\n",
              "    background-color: var(--hover-bg-color);\n",
              "    box-shadow: 0 1px 2px rgba(60, 64, 67, 0.3), 0 1px 3px 1px rgba(60, 64, 67, 0.15);\n",
              "    fill: var(--button-hover-fill-color);\n",
              "  }\n",
              "\n",
              "  .colab-df-quickchart-complete:disabled,\n",
              "  .colab-df-quickchart-complete:disabled:hover {\n",
              "    background-color: var(--disabled-bg-color);\n",
              "    fill: var(--disabled-fill-color);\n",
              "    box-shadow: none;\n",
              "  }\n",
              "\n",
              "  .colab-df-spinner {\n",
              "    border: 2px solid var(--fill-color);\n",
              "    border-color: transparent;\n",
              "    border-bottom-color: var(--fill-color);\n",
              "    animation:\n",
              "      spin 1s steps(1) infinite;\n",
              "  }\n",
              "\n",
              "  @keyframes spin {\n",
              "    0% {\n",
              "      border-color: transparent;\n",
              "      border-bottom-color: var(--fill-color);\n",
              "      border-left-color: var(--fill-color);\n",
              "    }\n",
              "    20% {\n",
              "      border-color: transparent;\n",
              "      border-left-color: var(--fill-color);\n",
              "      border-top-color: var(--fill-color);\n",
              "    }\n",
              "    30% {\n",
              "      border-color: transparent;\n",
              "      border-left-color: var(--fill-color);\n",
              "      border-top-color: var(--fill-color);\n",
              "      border-right-color: var(--fill-color);\n",
              "    }\n",
              "    40% {\n",
              "      border-color: transparent;\n",
              "      border-right-color: var(--fill-color);\n",
              "      border-top-color: var(--fill-color);\n",
              "    }\n",
              "    60% {\n",
              "      border-color: transparent;\n",
              "      border-right-color: var(--fill-color);\n",
              "    }\n",
              "    80% {\n",
              "      border-color: transparent;\n",
              "      border-right-color: var(--fill-color);\n",
              "      border-bottom-color: var(--fill-color);\n",
              "    }\n",
              "    90% {\n",
              "      border-color: transparent;\n",
              "      border-bottom-color: var(--fill-color);\n",
              "    }\n",
              "  }\n",
              "</style>\n",
              "\n",
              "  <script>\n",
              "    async function quickchart(key) {\n",
              "      const quickchartButtonEl =\n",
              "        document.querySelector('#' + key + ' button');\n",
              "      quickchartButtonEl.disabled = true;  // To prevent multiple clicks.\n",
              "      quickchartButtonEl.classList.add('colab-df-spinner');\n",
              "      try {\n",
              "        const charts = await google.colab.kernel.invokeFunction(\n",
              "            'suggestCharts', [key], {});\n",
              "      } catch (error) {\n",
              "        console.error('Error during call to suggestCharts:', error);\n",
              "      }\n",
              "      quickchartButtonEl.classList.remove('colab-df-spinner');\n",
              "      quickchartButtonEl.classList.add('colab-df-quickchart-complete');\n",
              "    }\n",
              "    (() => {\n",
              "      let quickchartButtonEl =\n",
              "        document.querySelector('#df-fc4dbc49-4648-4c5b-97a8-2a91f85d883e button');\n",
              "      quickchartButtonEl.style.display =\n",
              "        google.colab.kernel.accessAllowed ? 'block' : 'none';\n",
              "    })();\n",
              "  </script>\n",
              "</div>\n",
              "    </div>\n",
              "  </div>\n"
            ]
          },
          "metadata": {},
          "execution_count": 56
        }
      ],
      "source": [
        "sports_data_21.head()"
      ]
    },
    {
      "cell_type": "markdown",
      "metadata": {
        "id": "25PmJJR9cRxA"
      },
      "source": [
        "Scaling"
      ]
    },
    {
      "cell_type": "code",
      "execution_count": 57,
      "metadata": {
        "id": "UYnEPLf9cqp-"
      },
      "outputs": [],
      "source": [
        "from sklearn.preprocessing import StandardScaler"
      ]
    },
    {
      "cell_type": "code",
      "execution_count": 58,
      "metadata": {
        "id": "2MxmNSt0bV_N"
      },
      "outputs": [],
      "source": [
        "y = sports_data_21['overall']\n"
      ]
    },
    {
      "cell_type": "code",
      "execution_count": 59,
      "metadata": {
        "id": "l987Z4p8e3wM"
      },
      "outputs": [],
      "source": [
        "x =sports_data_21.drop('overall',axis=1)"
      ]
    },
    {
      "cell_type": "code",
      "execution_count": 60,
      "metadata": {
        "id": "dt81FugNcycq"
      },
      "outputs": [],
      "source": [
        "X= StandardScaler()"
      ]
    },
    {
      "cell_type": "code",
      "execution_count": 61,
      "metadata": {
        "id": "7WxnpinHc1WO"
      },
      "outputs": [],
      "source": [
        "scaled = X.fit_transform(x)"
      ]
    },
    {
      "cell_type": "code",
      "execution_count": 62,
      "metadata": {
        "id": "YAnbdnx8c32t"
      },
      "outputs": [],
      "source": [
        "sports_data_21=pd.DataFrame(scaled,columns=x.columns)"
      ]
    },
    {
      "cell_type": "code",
      "execution_count": 63,
      "metadata": {
        "id": "XwR991j0gJWP",
        "colab": {
          "base_uri": "https://localhost:8080/",
          "height": 443
        },
        "outputId": "b42ece15-ab92-4fc4-d747-98632dccef1d"
      },
      "outputs": [
        {
          "output_type": "execute_result",
          "data": {
            "text/plain": [
              "       movement_reactions   passing  dribbling       age  mentality_composure  \\\n",
              "0                3.554438  3.493625   3.433013  1.655055             3.137573   \n",
              "1                3.664174  2.461857   2.800094  2.080838             3.055051   \n",
              "2                3.444701  2.152326   2.378148  1.229273             2.477402   \n",
              "3                3.225227  2.977741   3.327526  0.590598             2.890009   \n",
              "4                3.225227  3.699979   2.694607  0.803490             2.724966   \n",
              "...                   ...       ...        ...       ...                  ...   \n",
              "18939           -1.493455 -3.212867  -3.740069 -0.899642            -1.483625   \n",
              "18940           -1.273981 -0.839801  -1.630339 -0.899642            -1.896232   \n",
              "18941           -1.932402 -0.839801  -1.735826  0.590598            -1.896232   \n",
              "18942           -0.944771 -1.768392  -0.997420 -1.751207            -1.071018   \n",
              "18943           -1.164245 -0.942978  -1.419366 -1.751207            -1.648668   \n",
              "\n",
              "       release_clause_eur  power_shot_power   wage_eur  value_eur  \n",
              "0               13.695696          2.119026  27.857178  13.073165  \n",
              "1                7.312715          2.719163  10.662997   7.809992  \n",
              "2               13.042079          2.344077  11.674420  14.047827  \n",
              "3               16.565484          1.668922  13.191553  16.776879  \n",
              "4               16.003782          2.494112  18.248665  16.387015  \n",
              "...                   ...               ...        ...        ...  \n",
              "18939           -0.432955         -1.706851  -0.412078  -0.368070  \n",
              "18940           -0.431423         -1.481799  -0.412078  -0.368070  \n",
              "18941           -0.433977         -0.656610  -0.361507  -0.371319  \n",
              "18942           -0.421926         -0.581593  -0.437363  -0.360272  \n",
              "18943           -0.421926         -0.731627  -0.437363  -0.360272  \n",
              "\n",
              "[18944 rows x 9 columns]"
            ],
            "text/html": [
              "\n",
              "  <div id=\"df-1cc32b36-bc3f-4eb9-8873-f4b4e9fe5f63\" class=\"colab-df-container\">\n",
              "    <div>\n",
              "<style scoped>\n",
              "    .dataframe tbody tr th:only-of-type {\n",
              "        vertical-align: middle;\n",
              "    }\n",
              "\n",
              "    .dataframe tbody tr th {\n",
              "        vertical-align: top;\n",
              "    }\n",
              "\n",
              "    .dataframe thead th {\n",
              "        text-align: right;\n",
              "    }\n",
              "</style>\n",
              "<table border=\"1\" class=\"dataframe\">\n",
              "  <thead>\n",
              "    <tr style=\"text-align: right;\">\n",
              "      <th></th>\n",
              "      <th>movement_reactions</th>\n",
              "      <th>passing</th>\n",
              "      <th>dribbling</th>\n",
              "      <th>age</th>\n",
              "      <th>mentality_composure</th>\n",
              "      <th>release_clause_eur</th>\n",
              "      <th>power_shot_power</th>\n",
              "      <th>wage_eur</th>\n",
              "      <th>value_eur</th>\n",
              "    </tr>\n",
              "  </thead>\n",
              "  <tbody>\n",
              "    <tr>\n",
              "      <th>0</th>\n",
              "      <td>3.554438</td>\n",
              "      <td>3.493625</td>\n",
              "      <td>3.433013</td>\n",
              "      <td>1.655055</td>\n",
              "      <td>3.137573</td>\n",
              "      <td>13.695696</td>\n",
              "      <td>2.119026</td>\n",
              "      <td>27.857178</td>\n",
              "      <td>13.073165</td>\n",
              "    </tr>\n",
              "    <tr>\n",
              "      <th>1</th>\n",
              "      <td>3.664174</td>\n",
              "      <td>2.461857</td>\n",
              "      <td>2.800094</td>\n",
              "      <td>2.080838</td>\n",
              "      <td>3.055051</td>\n",
              "      <td>7.312715</td>\n",
              "      <td>2.719163</td>\n",
              "      <td>10.662997</td>\n",
              "      <td>7.809992</td>\n",
              "    </tr>\n",
              "    <tr>\n",
              "      <th>2</th>\n",
              "      <td>3.444701</td>\n",
              "      <td>2.152326</td>\n",
              "      <td>2.378148</td>\n",
              "      <td>1.229273</td>\n",
              "      <td>2.477402</td>\n",
              "      <td>13.042079</td>\n",
              "      <td>2.344077</td>\n",
              "      <td>11.674420</td>\n",
              "      <td>14.047827</td>\n",
              "    </tr>\n",
              "    <tr>\n",
              "      <th>3</th>\n",
              "      <td>3.225227</td>\n",
              "      <td>2.977741</td>\n",
              "      <td>3.327526</td>\n",
              "      <td>0.590598</td>\n",
              "      <td>2.890009</td>\n",
              "      <td>16.565484</td>\n",
              "      <td>1.668922</td>\n",
              "      <td>13.191553</td>\n",
              "      <td>16.776879</td>\n",
              "    </tr>\n",
              "    <tr>\n",
              "      <th>4</th>\n",
              "      <td>3.225227</td>\n",
              "      <td>3.699979</td>\n",
              "      <td>2.694607</td>\n",
              "      <td>0.803490</td>\n",
              "      <td>2.724966</td>\n",
              "      <td>16.003782</td>\n",
              "      <td>2.494112</td>\n",
              "      <td>18.248665</td>\n",
              "      <td>16.387015</td>\n",
              "    </tr>\n",
              "    <tr>\n",
              "      <th>...</th>\n",
              "      <td>...</td>\n",
              "      <td>...</td>\n",
              "      <td>...</td>\n",
              "      <td>...</td>\n",
              "      <td>...</td>\n",
              "      <td>...</td>\n",
              "      <td>...</td>\n",
              "      <td>...</td>\n",
              "      <td>...</td>\n",
              "    </tr>\n",
              "    <tr>\n",
              "      <th>18939</th>\n",
              "      <td>-1.493455</td>\n",
              "      <td>-3.212867</td>\n",
              "      <td>-3.740069</td>\n",
              "      <td>-0.899642</td>\n",
              "      <td>-1.483625</td>\n",
              "      <td>-0.432955</td>\n",
              "      <td>-1.706851</td>\n",
              "      <td>-0.412078</td>\n",
              "      <td>-0.368070</td>\n",
              "    </tr>\n",
              "    <tr>\n",
              "      <th>18940</th>\n",
              "      <td>-1.273981</td>\n",
              "      <td>-0.839801</td>\n",
              "      <td>-1.630339</td>\n",
              "      <td>-0.899642</td>\n",
              "      <td>-1.896232</td>\n",
              "      <td>-0.431423</td>\n",
              "      <td>-1.481799</td>\n",
              "      <td>-0.412078</td>\n",
              "      <td>-0.368070</td>\n",
              "    </tr>\n",
              "    <tr>\n",
              "      <th>18941</th>\n",
              "      <td>-1.932402</td>\n",
              "      <td>-0.839801</td>\n",
              "      <td>-1.735826</td>\n",
              "      <td>0.590598</td>\n",
              "      <td>-1.896232</td>\n",
              "      <td>-0.433977</td>\n",
              "      <td>-0.656610</td>\n",
              "      <td>-0.361507</td>\n",
              "      <td>-0.371319</td>\n",
              "    </tr>\n",
              "    <tr>\n",
              "      <th>18942</th>\n",
              "      <td>-0.944771</td>\n",
              "      <td>-1.768392</td>\n",
              "      <td>-0.997420</td>\n",
              "      <td>-1.751207</td>\n",
              "      <td>-1.071018</td>\n",
              "      <td>-0.421926</td>\n",
              "      <td>-0.581593</td>\n",
              "      <td>-0.437363</td>\n",
              "      <td>-0.360272</td>\n",
              "    </tr>\n",
              "    <tr>\n",
              "      <th>18943</th>\n",
              "      <td>-1.164245</td>\n",
              "      <td>-0.942978</td>\n",
              "      <td>-1.419366</td>\n",
              "      <td>-1.751207</td>\n",
              "      <td>-1.648668</td>\n",
              "      <td>-0.421926</td>\n",
              "      <td>-0.731627</td>\n",
              "      <td>-0.437363</td>\n",
              "      <td>-0.360272</td>\n",
              "    </tr>\n",
              "  </tbody>\n",
              "</table>\n",
              "<p>18944 rows × 9 columns</p>\n",
              "</div>\n",
              "    <div class=\"colab-df-buttons\">\n",
              "\n",
              "  <div class=\"colab-df-container\">\n",
              "    <button class=\"colab-df-convert\" onclick=\"convertToInteractive('df-1cc32b36-bc3f-4eb9-8873-f4b4e9fe5f63')\"\n",
              "            title=\"Convert this dataframe to an interactive table.\"\n",
              "            style=\"display:none;\">\n",
              "\n",
              "  <svg xmlns=\"http://www.w3.org/2000/svg\" height=\"24px\" viewBox=\"0 -960 960 960\">\n",
              "    <path d=\"M120-120v-720h720v720H120Zm60-500h600v-160H180v160Zm220 220h160v-160H400v160Zm0 220h160v-160H400v160ZM180-400h160v-160H180v160Zm440 0h160v-160H620v160ZM180-180h160v-160H180v160Zm440 0h160v-160H620v160Z\"/>\n",
              "  </svg>\n",
              "    </button>\n",
              "\n",
              "  <style>\n",
              "    .colab-df-container {\n",
              "      display:flex;\n",
              "      gap: 12px;\n",
              "    }\n",
              "\n",
              "    .colab-df-convert {\n",
              "      background-color: #E8F0FE;\n",
              "      border: none;\n",
              "      border-radius: 50%;\n",
              "      cursor: pointer;\n",
              "      display: none;\n",
              "      fill: #1967D2;\n",
              "      height: 32px;\n",
              "      padding: 0 0 0 0;\n",
              "      width: 32px;\n",
              "    }\n",
              "\n",
              "    .colab-df-convert:hover {\n",
              "      background-color: #E2EBFA;\n",
              "      box-shadow: 0px 1px 2px rgba(60, 64, 67, 0.3), 0px 1px 3px 1px rgba(60, 64, 67, 0.15);\n",
              "      fill: #174EA6;\n",
              "    }\n",
              "\n",
              "    .colab-df-buttons div {\n",
              "      margin-bottom: 4px;\n",
              "    }\n",
              "\n",
              "    [theme=dark] .colab-df-convert {\n",
              "      background-color: #3B4455;\n",
              "      fill: #D2E3FC;\n",
              "    }\n",
              "\n",
              "    [theme=dark] .colab-df-convert:hover {\n",
              "      background-color: #434B5C;\n",
              "      box-shadow: 0px 1px 3px 1px rgba(0, 0, 0, 0.15);\n",
              "      filter: drop-shadow(0px 1px 2px rgba(0, 0, 0, 0.3));\n",
              "      fill: #FFFFFF;\n",
              "    }\n",
              "  </style>\n",
              "\n",
              "    <script>\n",
              "      const buttonEl =\n",
              "        document.querySelector('#df-1cc32b36-bc3f-4eb9-8873-f4b4e9fe5f63 button.colab-df-convert');\n",
              "      buttonEl.style.display =\n",
              "        google.colab.kernel.accessAllowed ? 'block' : 'none';\n",
              "\n",
              "      async function convertToInteractive(key) {\n",
              "        const element = document.querySelector('#df-1cc32b36-bc3f-4eb9-8873-f4b4e9fe5f63');\n",
              "        const dataTable =\n",
              "          await google.colab.kernel.invokeFunction('convertToInteractive',\n",
              "                                                    [key], {});\n",
              "        if (!dataTable) return;\n",
              "\n",
              "        const docLinkHtml = 'Like what you see? Visit the ' +\n",
              "          '<a target=\"_blank\" href=https://colab.research.google.com/notebooks/data_table.ipynb>data table notebook</a>'\n",
              "          + ' to learn more about interactive tables.';\n",
              "        element.innerHTML = '';\n",
              "        dataTable['output_type'] = 'display_data';\n",
              "        await google.colab.output.renderOutput(dataTable, element);\n",
              "        const docLink = document.createElement('div');\n",
              "        docLink.innerHTML = docLinkHtml;\n",
              "        element.appendChild(docLink);\n",
              "      }\n",
              "    </script>\n",
              "  </div>\n",
              "\n",
              "\n",
              "<div id=\"df-cdc43a42-2a24-4c24-a62f-45bf0ab28d48\">\n",
              "  <button class=\"colab-df-quickchart\" onclick=\"quickchart('df-cdc43a42-2a24-4c24-a62f-45bf0ab28d48')\"\n",
              "            title=\"Suggest charts.\"\n",
              "            style=\"display:none;\">\n",
              "\n",
              "<svg xmlns=\"http://www.w3.org/2000/svg\" height=\"24px\"viewBox=\"0 0 24 24\"\n",
              "     width=\"24px\">\n",
              "    <g>\n",
              "        <path d=\"M19 3H5c-1.1 0-2 .9-2 2v14c0 1.1.9 2 2 2h14c1.1 0 2-.9 2-2V5c0-1.1-.9-2-2-2zM9 17H7v-7h2v7zm4 0h-2V7h2v10zm4 0h-2v-4h2v4z\"/>\n",
              "    </g>\n",
              "</svg>\n",
              "  </button>\n",
              "\n",
              "<style>\n",
              "  .colab-df-quickchart {\n",
              "      --bg-color: #E8F0FE;\n",
              "      --fill-color: #1967D2;\n",
              "      --hover-bg-color: #E2EBFA;\n",
              "      --hover-fill-color: #174EA6;\n",
              "      --disabled-fill-color: #AAA;\n",
              "      --disabled-bg-color: #DDD;\n",
              "  }\n",
              "\n",
              "  [theme=dark] .colab-df-quickchart {\n",
              "      --bg-color: #3B4455;\n",
              "      --fill-color: #D2E3FC;\n",
              "      --hover-bg-color: #434B5C;\n",
              "      --hover-fill-color: #FFFFFF;\n",
              "      --disabled-bg-color: #3B4455;\n",
              "      --disabled-fill-color: #666;\n",
              "  }\n",
              "\n",
              "  .colab-df-quickchart {\n",
              "    background-color: var(--bg-color);\n",
              "    border: none;\n",
              "    border-radius: 50%;\n",
              "    cursor: pointer;\n",
              "    display: none;\n",
              "    fill: var(--fill-color);\n",
              "    height: 32px;\n",
              "    padding: 0;\n",
              "    width: 32px;\n",
              "  }\n",
              "\n",
              "  .colab-df-quickchart:hover {\n",
              "    background-color: var(--hover-bg-color);\n",
              "    box-shadow: 0 1px 2px rgba(60, 64, 67, 0.3), 0 1px 3px 1px rgba(60, 64, 67, 0.15);\n",
              "    fill: var(--button-hover-fill-color);\n",
              "  }\n",
              "\n",
              "  .colab-df-quickchart-complete:disabled,\n",
              "  .colab-df-quickchart-complete:disabled:hover {\n",
              "    background-color: var(--disabled-bg-color);\n",
              "    fill: var(--disabled-fill-color);\n",
              "    box-shadow: none;\n",
              "  }\n",
              "\n",
              "  .colab-df-spinner {\n",
              "    border: 2px solid var(--fill-color);\n",
              "    border-color: transparent;\n",
              "    border-bottom-color: var(--fill-color);\n",
              "    animation:\n",
              "      spin 1s steps(1) infinite;\n",
              "  }\n",
              "\n",
              "  @keyframes spin {\n",
              "    0% {\n",
              "      border-color: transparent;\n",
              "      border-bottom-color: var(--fill-color);\n",
              "      border-left-color: var(--fill-color);\n",
              "    }\n",
              "    20% {\n",
              "      border-color: transparent;\n",
              "      border-left-color: var(--fill-color);\n",
              "      border-top-color: var(--fill-color);\n",
              "    }\n",
              "    30% {\n",
              "      border-color: transparent;\n",
              "      border-left-color: var(--fill-color);\n",
              "      border-top-color: var(--fill-color);\n",
              "      border-right-color: var(--fill-color);\n",
              "    }\n",
              "    40% {\n",
              "      border-color: transparent;\n",
              "      border-right-color: var(--fill-color);\n",
              "      border-top-color: var(--fill-color);\n",
              "    }\n",
              "    60% {\n",
              "      border-color: transparent;\n",
              "      border-right-color: var(--fill-color);\n",
              "    }\n",
              "    80% {\n",
              "      border-color: transparent;\n",
              "      border-right-color: var(--fill-color);\n",
              "      border-bottom-color: var(--fill-color);\n",
              "    }\n",
              "    90% {\n",
              "      border-color: transparent;\n",
              "      border-bottom-color: var(--fill-color);\n",
              "    }\n",
              "  }\n",
              "</style>\n",
              "\n",
              "  <script>\n",
              "    async function quickchart(key) {\n",
              "      const quickchartButtonEl =\n",
              "        document.querySelector('#' + key + ' button');\n",
              "      quickchartButtonEl.disabled = true;  // To prevent multiple clicks.\n",
              "      quickchartButtonEl.classList.add('colab-df-spinner');\n",
              "      try {\n",
              "        const charts = await google.colab.kernel.invokeFunction(\n",
              "            'suggestCharts', [key], {});\n",
              "      } catch (error) {\n",
              "        console.error('Error during call to suggestCharts:', error);\n",
              "      }\n",
              "      quickchartButtonEl.classList.remove('colab-df-spinner');\n",
              "      quickchartButtonEl.classList.add('colab-df-quickchart-complete');\n",
              "    }\n",
              "    (() => {\n",
              "      let quickchartButtonEl =\n",
              "        document.querySelector('#df-cdc43a42-2a24-4c24-a62f-45bf0ab28d48 button');\n",
              "      quickchartButtonEl.style.display =\n",
              "        google.colab.kernel.accessAllowed ? 'block' : 'none';\n",
              "    })();\n",
              "  </script>\n",
              "</div>\n",
              "    </div>\n",
              "  </div>\n"
            ]
          },
          "metadata": {},
          "execution_count": 63
        }
      ],
      "source": [
        "sports_data_21"
      ]
    },
    {
      "cell_type": "code",
      "execution_count": 64,
      "metadata": {
        "id": "A00ShL8ebxJh"
      },
      "outputs": [],
      "source": [
        "X_train, X_test, y_train, y_test = train_test_split(x, y, test_size=0.2, random_state=42)\n"
      ]
    },
    {
      "cell_type": "markdown",
      "metadata": {
        "id": "HhvJ0wCSdZEr"
      },
      "source": [
        "Training with Random Forest Regressor"
      ]
    },
    {
      "cell_type": "code",
      "execution_count": 238,
      "metadata": {
        "colab": {
          "base_uri": "https://localhost:8080/",
          "height": 74
        },
        "id": "pnmU4WwWb5GB",
        "outputId": "8d635641-d141-4289-b8a9-a0d2f9a583e0"
      },
      "outputs": [
        {
          "output_type": "execute_result",
          "data": {
            "text/plain": [
              "RandomForestRegressor(n_estimators=150, random_state=45)"
            ],
            "text/html": [
              "<style>#sk-container-id-27 {color: black;background-color: white;}#sk-container-id-27 pre{padding: 0;}#sk-container-id-27 div.sk-toggleable {background-color: white;}#sk-container-id-27 label.sk-toggleable__label {cursor: pointer;display: block;width: 100%;margin-bottom: 0;padding: 0.3em;box-sizing: border-box;text-align: center;}#sk-container-id-27 label.sk-toggleable__label-arrow:before {content: \"▸\";float: left;margin-right: 0.25em;color: #696969;}#sk-container-id-27 label.sk-toggleable__label-arrow:hover:before {color: black;}#sk-container-id-27 div.sk-estimator:hover label.sk-toggleable__label-arrow:before {color: black;}#sk-container-id-27 div.sk-toggleable__content {max-height: 0;max-width: 0;overflow: hidden;text-align: left;background-color: #f0f8ff;}#sk-container-id-27 div.sk-toggleable__content pre {margin: 0.2em;color: black;border-radius: 0.25em;background-color: #f0f8ff;}#sk-container-id-27 input.sk-toggleable__control:checked~div.sk-toggleable__content {max-height: 200px;max-width: 100%;overflow: auto;}#sk-container-id-27 input.sk-toggleable__control:checked~label.sk-toggleable__label-arrow:before {content: \"▾\";}#sk-container-id-27 div.sk-estimator input.sk-toggleable__control:checked~label.sk-toggleable__label {background-color: #d4ebff;}#sk-container-id-27 div.sk-label input.sk-toggleable__control:checked~label.sk-toggleable__label {background-color: #d4ebff;}#sk-container-id-27 input.sk-hidden--visually {border: 0;clip: rect(1px 1px 1px 1px);clip: rect(1px, 1px, 1px, 1px);height: 1px;margin: -1px;overflow: hidden;padding: 0;position: absolute;width: 1px;}#sk-container-id-27 div.sk-estimator {font-family: monospace;background-color: #f0f8ff;border: 1px dotted black;border-radius: 0.25em;box-sizing: border-box;margin-bottom: 0.5em;}#sk-container-id-27 div.sk-estimator:hover {background-color: #d4ebff;}#sk-container-id-27 div.sk-parallel-item::after {content: \"\";width: 100%;border-bottom: 1px solid gray;flex-grow: 1;}#sk-container-id-27 div.sk-label:hover label.sk-toggleable__label {background-color: #d4ebff;}#sk-container-id-27 div.sk-serial::before {content: \"\";position: absolute;border-left: 1px solid gray;box-sizing: border-box;top: 0;bottom: 0;left: 50%;z-index: 0;}#sk-container-id-27 div.sk-serial {display: flex;flex-direction: column;align-items: center;background-color: white;padding-right: 0.2em;padding-left: 0.2em;position: relative;}#sk-container-id-27 div.sk-item {position: relative;z-index: 1;}#sk-container-id-27 div.sk-parallel {display: flex;align-items: stretch;justify-content: center;background-color: white;position: relative;}#sk-container-id-27 div.sk-item::before, #sk-container-id-27 div.sk-parallel-item::before {content: \"\";position: absolute;border-left: 1px solid gray;box-sizing: border-box;top: 0;bottom: 0;left: 50%;z-index: -1;}#sk-container-id-27 div.sk-parallel-item {display: flex;flex-direction: column;z-index: 1;position: relative;background-color: white;}#sk-container-id-27 div.sk-parallel-item:first-child::after {align-self: flex-end;width: 50%;}#sk-container-id-27 div.sk-parallel-item:last-child::after {align-self: flex-start;width: 50%;}#sk-container-id-27 div.sk-parallel-item:only-child::after {width: 0;}#sk-container-id-27 div.sk-dashed-wrapped {border: 1px dashed gray;margin: 0 0.4em 0.5em 0.4em;box-sizing: border-box;padding-bottom: 0.4em;background-color: white;}#sk-container-id-27 div.sk-label label {font-family: monospace;font-weight: bold;display: inline-block;line-height: 1.2em;}#sk-container-id-27 div.sk-label-container {text-align: center;}#sk-container-id-27 div.sk-container {/* jupyter's `normalize.less` sets `[hidden] { display: none; }` but bootstrap.min.css set `[hidden] { display: none !important; }` so we also need the `!important` here to be able to override the default hidden behavior on the sphinx rendered scikit-learn.org. See: https://github.com/scikit-learn/scikit-learn/issues/21755 */display: inline-block !important;position: relative;}#sk-container-id-27 div.sk-text-repr-fallback {display: none;}</style><div id=\"sk-container-id-27\" class=\"sk-top-container\"><div class=\"sk-text-repr-fallback\"><pre>RandomForestRegressor(n_estimators=150, random_state=45)</pre><b>In a Jupyter environment, please rerun this cell to show the HTML representation or trust the notebook. <br />On GitHub, the HTML representation is unable to render, please try loading this page with nbviewer.org.</b></div><div class=\"sk-container\" hidden><div class=\"sk-item\"><div class=\"sk-estimator sk-toggleable\"><input class=\"sk-toggleable__control sk-hidden--visually\" id=\"sk-estimator-id-27\" type=\"checkbox\" checked><label for=\"sk-estimator-id-27\" class=\"sk-toggleable__label sk-toggleable__label-arrow\">RandomForestRegressor</label><div class=\"sk-toggleable__content\"><pre>RandomForestRegressor(n_estimators=150, random_state=45)</pre></div></div></div></div></div>"
            ]
          },
          "metadata": {},
          "execution_count": 238
        }
      ],
      "source": [
        "rfm = RandomForestRegressor(n_estimators=150, random_state=45)\n",
        "rfm.fit(X_train, y_train)\n"
      ]
    },
    {
      "cell_type": "code",
      "execution_count": 239,
      "metadata": {
        "colab": {
          "base_uri": "https://localhost:8080/"
        },
        "id": "jQgomBHbcjQg",
        "outputId": "afa252d7-dc8a-489f-c3a8-ad313f8ec3ab"
      },
      "outputs": [
        {
          "output_type": "stream",
          "name": "stdout",
          "text": [
            "Cross-Validation Scores: [0.99132243 0.99003622 0.98712724 0.9891653  0.99044148 0.99091784\n",
            " 0.98894771 0.98899937 0.98700807 0.9875041 ]\n"
          ]
        }
      ],
      "source": [
        "scores = cross_val_score(rfm, X_train, y_train, cv=10)\n",
        "print(\"Cross-Validation Scores:\", scores)\n"
      ]
    },
    {
      "cell_type": "code",
      "execution_count": 240,
      "metadata": {
        "colab": {
          "base_uri": "https://localhost:8080/"
        },
        "id": "4xxwkrxjcpZW",
        "outputId": "6e800580-9315-42cb-9c43-61bb39278ebd"
      },
      "outputs": [
        {
          "output_type": "stream",
          "name": "stdout",
          "text": [
            "Mean Squared Error: 0.48032677047593914\n"
          ]
        }
      ],
      "source": [
        "y_pred = rfm.predict(X_test)\n",
        "\n",
        "mse = mean_squared_error(y_test, y_pred)\n",
        "print(\"Mean Squared Error:\", mse)\n"
      ]
    },
    {
      "cell_type": "code",
      "execution_count": 165,
      "metadata": {
        "colab": {
          "base_uri": "https://localhost:8080/"
        },
        "id": "6n1P1Uu1ZTKd",
        "outputId": "b2d56145-bca4-4811-a903-3405eaddf546"
      },
      "outputs": [
        {
          "output_type": "stream",
          "name": "stdout",
          "text": [
            "0.4209342834520982\n"
          ]
        }
      ],
      "source": [
        "mae = print(mean_absolute_error(y_test, y_pred))"
      ]
    },
    {
      "cell_type": "markdown",
      "metadata": {
        "id": "GdVcU6Zfde3n"
      },
      "source": [
        "Training with Decision Tree Classifier"
      ]
    },
    {
      "cell_type": "code",
      "execution_count": 112,
      "metadata": {
        "id": "kzw9w9ONdOte"
      },
      "outputs": [],
      "source": [
        "from sklearn.tree import DecisionTreeRegressor"
      ]
    },
    {
      "cell_type": "code",
      "execution_count": 178,
      "metadata": {
        "id": "Raf4A-yJdkbs"
      },
      "outputs": [],
      "source": [
        "dtree = DecisionTreeRegressor(max_depth=20, min_samples_split=6)"
      ]
    },
    {
      "cell_type": "code",
      "execution_count": 179,
      "metadata": {
        "colab": {
          "base_uri": "https://localhost:8080/",
          "height": 74
        },
        "id": "4i5_v3ZNdnGT",
        "outputId": "4301bff4-2585-49f9-f02f-7664dfa9c8f4"
      },
      "outputs": [
        {
          "output_type": "execute_result",
          "data": {
            "text/plain": [
              "DecisionTreeRegressor(max_depth=20, min_samples_split=6)"
            ],
            "text/html": [
              "<style>#sk-container-id-22 {color: black;background-color: white;}#sk-container-id-22 pre{padding: 0;}#sk-container-id-22 div.sk-toggleable {background-color: white;}#sk-container-id-22 label.sk-toggleable__label {cursor: pointer;display: block;width: 100%;margin-bottom: 0;padding: 0.3em;box-sizing: border-box;text-align: center;}#sk-container-id-22 label.sk-toggleable__label-arrow:before {content: \"▸\";float: left;margin-right: 0.25em;color: #696969;}#sk-container-id-22 label.sk-toggleable__label-arrow:hover:before {color: black;}#sk-container-id-22 div.sk-estimator:hover label.sk-toggleable__label-arrow:before {color: black;}#sk-container-id-22 div.sk-toggleable__content {max-height: 0;max-width: 0;overflow: hidden;text-align: left;background-color: #f0f8ff;}#sk-container-id-22 div.sk-toggleable__content pre {margin: 0.2em;color: black;border-radius: 0.25em;background-color: #f0f8ff;}#sk-container-id-22 input.sk-toggleable__control:checked~div.sk-toggleable__content {max-height: 200px;max-width: 100%;overflow: auto;}#sk-container-id-22 input.sk-toggleable__control:checked~label.sk-toggleable__label-arrow:before {content: \"▾\";}#sk-container-id-22 div.sk-estimator input.sk-toggleable__control:checked~label.sk-toggleable__label {background-color: #d4ebff;}#sk-container-id-22 div.sk-label input.sk-toggleable__control:checked~label.sk-toggleable__label {background-color: #d4ebff;}#sk-container-id-22 input.sk-hidden--visually {border: 0;clip: rect(1px 1px 1px 1px);clip: rect(1px, 1px, 1px, 1px);height: 1px;margin: -1px;overflow: hidden;padding: 0;position: absolute;width: 1px;}#sk-container-id-22 div.sk-estimator {font-family: monospace;background-color: #f0f8ff;border: 1px dotted black;border-radius: 0.25em;box-sizing: border-box;margin-bottom: 0.5em;}#sk-container-id-22 div.sk-estimator:hover {background-color: #d4ebff;}#sk-container-id-22 div.sk-parallel-item::after {content: \"\";width: 100%;border-bottom: 1px solid gray;flex-grow: 1;}#sk-container-id-22 div.sk-label:hover label.sk-toggleable__label {background-color: #d4ebff;}#sk-container-id-22 div.sk-serial::before {content: \"\";position: absolute;border-left: 1px solid gray;box-sizing: border-box;top: 0;bottom: 0;left: 50%;z-index: 0;}#sk-container-id-22 div.sk-serial {display: flex;flex-direction: column;align-items: center;background-color: white;padding-right: 0.2em;padding-left: 0.2em;position: relative;}#sk-container-id-22 div.sk-item {position: relative;z-index: 1;}#sk-container-id-22 div.sk-parallel {display: flex;align-items: stretch;justify-content: center;background-color: white;position: relative;}#sk-container-id-22 div.sk-item::before, #sk-container-id-22 div.sk-parallel-item::before {content: \"\";position: absolute;border-left: 1px solid gray;box-sizing: border-box;top: 0;bottom: 0;left: 50%;z-index: -1;}#sk-container-id-22 div.sk-parallel-item {display: flex;flex-direction: column;z-index: 1;position: relative;background-color: white;}#sk-container-id-22 div.sk-parallel-item:first-child::after {align-self: flex-end;width: 50%;}#sk-container-id-22 div.sk-parallel-item:last-child::after {align-self: flex-start;width: 50%;}#sk-container-id-22 div.sk-parallel-item:only-child::after {width: 0;}#sk-container-id-22 div.sk-dashed-wrapped {border: 1px dashed gray;margin: 0 0.4em 0.5em 0.4em;box-sizing: border-box;padding-bottom: 0.4em;background-color: white;}#sk-container-id-22 div.sk-label label {font-family: monospace;font-weight: bold;display: inline-block;line-height: 1.2em;}#sk-container-id-22 div.sk-label-container {text-align: center;}#sk-container-id-22 div.sk-container {/* jupyter's `normalize.less` sets `[hidden] { display: none; }` but bootstrap.min.css set `[hidden] { display: none !important; }` so we also need the `!important` here to be able to override the default hidden behavior on the sphinx rendered scikit-learn.org. See: https://github.com/scikit-learn/scikit-learn/issues/21755 */display: inline-block !important;position: relative;}#sk-container-id-22 div.sk-text-repr-fallback {display: none;}</style><div id=\"sk-container-id-22\" class=\"sk-top-container\"><div class=\"sk-text-repr-fallback\"><pre>DecisionTreeRegressor(max_depth=20, min_samples_split=6)</pre><b>In a Jupyter environment, please rerun this cell to show the HTML representation or trust the notebook. <br />On GitHub, the HTML representation is unable to render, please try loading this page with nbviewer.org.</b></div><div class=\"sk-container\" hidden><div class=\"sk-item\"><div class=\"sk-estimator sk-toggleable\"><input class=\"sk-toggleable__control sk-hidden--visually\" id=\"sk-estimator-id-22\" type=\"checkbox\" checked><label for=\"sk-estimator-id-22\" class=\"sk-toggleable__label sk-toggleable__label-arrow\">DecisionTreeRegressor</label><div class=\"sk-toggleable__content\"><pre>DecisionTreeRegressor(max_depth=20, min_samples_split=6)</pre></div></div></div></div></div>"
            ]
          },
          "metadata": {},
          "execution_count": 179
        }
      ],
      "source": [
        "dtree.fit(X_train,y_train)"
      ]
    },
    {
      "cell_type": "code",
      "execution_count": 180,
      "metadata": {
        "id": "Top3L_lgdpI0"
      },
      "outputs": [],
      "source": [
        "y_pred = dtree.predict(X_test)"
      ]
    },
    {
      "cell_type": "code",
      "execution_count": 116,
      "metadata": {
        "id": "3RauNQutZ4AX",
        "colab": {
          "base_uri": "https://localhost:8080/"
        },
        "outputId": "ae85f451-cc35-4ab6-ca2f-877dd3d2bf86"
      },
      "outputs": [
        {
          "output_type": "stream",
          "name": "stdout",
          "text": [
            "Cross-Validation Scores: [0.98304544 0.98299906 0.97306702 0.98203085 0.98413469 0.98254015\n",
            " 0.98040883 0.98226193 0.97831501 0.9774824 ]\n"
          ]
        }
      ],
      "source": [
        "scores = cross_val_score(dtree, X_train, y_train, cv=10)\n",
        "print(\"Cross-Validation Scores:\", scores)\n"
      ]
    },
    {
      "cell_type": "code",
      "execution_count": 181,
      "metadata": {
        "id": "cphsvWbMc4fS",
        "colab": {
          "base_uri": "https://localhost:8080/"
        },
        "outputId": "8c62c326-575c-4bda-be0c-08ef6eb81714"
      },
      "outputs": [
        {
          "output_type": "stream",
          "name": "stdout",
          "text": [
            "0.47795590685307743\n"
          ]
        }
      ],
      "source": [
        "mae = print(mean_absolute_error(y_test, y_pred))"
      ]
    },
    {
      "cell_type": "code",
      "execution_count": 118,
      "metadata": {
        "id": "ClubV6MydwNK"
      },
      "outputs": [],
      "source": [
        "from sklearn.metrics import accuracy_score,f1_score,make_scorer"
      ]
    },
    {
      "cell_type": "markdown",
      "metadata": {
        "id": "e4pUJIwWeUKp"
      },
      "source": [
        "Training using Gradient Boost\n"
      ]
    },
    {
      "cell_type": "code",
      "execution_count": 182,
      "metadata": {
        "id": "suIjm_0Ad3Oi"
      },
      "outputs": [],
      "source": [
        "from sklearn.ensemble import GradientBoostingRegressor"
      ]
    },
    {
      "cell_type": "code",
      "execution_count": 197,
      "metadata": {
        "id": "u2duHKiDexpR"
      },
      "outputs": [],
      "source": [
        "grad=GradientBoostingRegressor( n_estimators=170, learning_rate=0.5)"
      ]
    },
    {
      "cell_type": "code",
      "execution_count": 198,
      "metadata": {
        "id": "owHep0giefGQ",
        "colab": {
          "base_uri": "https://localhost:8080/",
          "height": 74
        },
        "outputId": "40986e51-a340-4a59-da80-d080fbb92632"
      },
      "outputs": [
        {
          "output_type": "execute_result",
          "data": {
            "text/plain": [
              "GradientBoostingRegressor(learning_rate=0.5, n_estimators=170)"
            ],
            "text/html": [
              "<style>#sk-container-id-26 {color: black;background-color: white;}#sk-container-id-26 pre{padding: 0;}#sk-container-id-26 div.sk-toggleable {background-color: white;}#sk-container-id-26 label.sk-toggleable__label {cursor: pointer;display: block;width: 100%;margin-bottom: 0;padding: 0.3em;box-sizing: border-box;text-align: center;}#sk-container-id-26 label.sk-toggleable__label-arrow:before {content: \"▸\";float: left;margin-right: 0.25em;color: #696969;}#sk-container-id-26 label.sk-toggleable__label-arrow:hover:before {color: black;}#sk-container-id-26 div.sk-estimator:hover label.sk-toggleable__label-arrow:before {color: black;}#sk-container-id-26 div.sk-toggleable__content {max-height: 0;max-width: 0;overflow: hidden;text-align: left;background-color: #f0f8ff;}#sk-container-id-26 div.sk-toggleable__content pre {margin: 0.2em;color: black;border-radius: 0.25em;background-color: #f0f8ff;}#sk-container-id-26 input.sk-toggleable__control:checked~div.sk-toggleable__content {max-height: 200px;max-width: 100%;overflow: auto;}#sk-container-id-26 input.sk-toggleable__control:checked~label.sk-toggleable__label-arrow:before {content: \"▾\";}#sk-container-id-26 div.sk-estimator input.sk-toggleable__control:checked~label.sk-toggleable__label {background-color: #d4ebff;}#sk-container-id-26 div.sk-label input.sk-toggleable__control:checked~label.sk-toggleable__label {background-color: #d4ebff;}#sk-container-id-26 input.sk-hidden--visually {border: 0;clip: rect(1px 1px 1px 1px);clip: rect(1px, 1px, 1px, 1px);height: 1px;margin: -1px;overflow: hidden;padding: 0;position: absolute;width: 1px;}#sk-container-id-26 div.sk-estimator {font-family: monospace;background-color: #f0f8ff;border: 1px dotted black;border-radius: 0.25em;box-sizing: border-box;margin-bottom: 0.5em;}#sk-container-id-26 div.sk-estimator:hover {background-color: #d4ebff;}#sk-container-id-26 div.sk-parallel-item::after {content: \"\";width: 100%;border-bottom: 1px solid gray;flex-grow: 1;}#sk-container-id-26 div.sk-label:hover label.sk-toggleable__label {background-color: #d4ebff;}#sk-container-id-26 div.sk-serial::before {content: \"\";position: absolute;border-left: 1px solid gray;box-sizing: border-box;top: 0;bottom: 0;left: 50%;z-index: 0;}#sk-container-id-26 div.sk-serial {display: flex;flex-direction: column;align-items: center;background-color: white;padding-right: 0.2em;padding-left: 0.2em;position: relative;}#sk-container-id-26 div.sk-item {position: relative;z-index: 1;}#sk-container-id-26 div.sk-parallel {display: flex;align-items: stretch;justify-content: center;background-color: white;position: relative;}#sk-container-id-26 div.sk-item::before, #sk-container-id-26 div.sk-parallel-item::before {content: \"\";position: absolute;border-left: 1px solid gray;box-sizing: border-box;top: 0;bottom: 0;left: 50%;z-index: -1;}#sk-container-id-26 div.sk-parallel-item {display: flex;flex-direction: column;z-index: 1;position: relative;background-color: white;}#sk-container-id-26 div.sk-parallel-item:first-child::after {align-self: flex-end;width: 50%;}#sk-container-id-26 div.sk-parallel-item:last-child::after {align-self: flex-start;width: 50%;}#sk-container-id-26 div.sk-parallel-item:only-child::after {width: 0;}#sk-container-id-26 div.sk-dashed-wrapped {border: 1px dashed gray;margin: 0 0.4em 0.5em 0.4em;box-sizing: border-box;padding-bottom: 0.4em;background-color: white;}#sk-container-id-26 div.sk-label label {font-family: monospace;font-weight: bold;display: inline-block;line-height: 1.2em;}#sk-container-id-26 div.sk-label-container {text-align: center;}#sk-container-id-26 div.sk-container {/* jupyter's `normalize.less` sets `[hidden] { display: none; }` but bootstrap.min.css set `[hidden] { display: none !important; }` so we also need the `!important` here to be able to override the default hidden behavior on the sphinx rendered scikit-learn.org. See: https://github.com/scikit-learn/scikit-learn/issues/21755 */display: inline-block !important;position: relative;}#sk-container-id-26 div.sk-text-repr-fallback {display: none;}</style><div id=\"sk-container-id-26\" class=\"sk-top-container\"><div class=\"sk-text-repr-fallback\"><pre>GradientBoostingRegressor(learning_rate=0.5, n_estimators=170)</pre><b>In a Jupyter environment, please rerun this cell to show the HTML representation or trust the notebook. <br />On GitHub, the HTML representation is unable to render, please try loading this page with nbviewer.org.</b></div><div class=\"sk-container\" hidden><div class=\"sk-item\"><div class=\"sk-estimator sk-toggleable\"><input class=\"sk-toggleable__control sk-hidden--visually\" id=\"sk-estimator-id-26\" type=\"checkbox\" checked><label for=\"sk-estimator-id-26\" class=\"sk-toggleable__label sk-toggleable__label-arrow\">GradientBoostingRegressor</label><div class=\"sk-toggleable__content\"><pre>GradientBoostingRegressor(learning_rate=0.5, n_estimators=170)</pre></div></div></div></div></div>"
            ]
          },
          "metadata": {},
          "execution_count": 198
        }
      ],
      "source": [
        "grad.fit(X_train,y_train)"
      ]
    },
    {
      "cell_type": "code",
      "execution_count": 199,
      "metadata": {
        "id": "jJbhZ_a6eSTW"
      },
      "outputs": [],
      "source": [
        "y_pred=grad.predict(X_test)"
      ]
    },
    {
      "cell_type": "code",
      "execution_count": 200,
      "metadata": {
        "id": "gQiN9MxjakhH",
        "colab": {
          "base_uri": "https://localhost:8080/"
        },
        "outputId": "cabdbe03-f640-46af-e3bc-c628b2866747"
      },
      "outputs": [
        {
          "output_type": "stream",
          "name": "stdout",
          "text": [
            "Mean Squared Error: 0.5558144673996569\n"
          ]
        }
      ],
      "source": [
        "mse = mean_squared_error(y_test, y_pred)\n",
        "print(\"Mean Squared Error:\", mse)\n"
      ]
    },
    {
      "cell_type": "code",
      "execution_count": 150,
      "metadata": {
        "colab": {
          "base_uri": "https://localhost:8080/"
        },
        "id": "2UIZY9bQasA4",
        "outputId": "7da5a253-7786-4a4f-e235-3fabb642c1b1"
      },
      "outputs": [
        {
          "output_type": "stream",
          "name": "stdout",
          "text": [
            "Cross-Validation Scores: [0.98884129 0.98731696 0.98580095 0.98474563 0.98792089 0.98847779\n",
            " 0.98608635 0.98787075 0.98462785 0.98396308]\n"
          ]
        }
      ],
      "source": [
        "scores = cross_val_score(grad, X_train, y_train, cv=10)\n",
        "print(\"Cross-Validation Scores:\", scores)\n"
      ]
    },
    {
      "cell_type": "code",
      "execution_count": 201,
      "metadata": {
        "colab": {
          "base_uri": "https://localhost:8080/"
        },
        "id": "b6y-dyA9czhU",
        "outputId": "de4e08fe-dc9d-4937-ffa3-88b4dbbd5b97"
      },
      "outputs": [
        {
          "output_type": "stream",
          "name": "stdout",
          "text": [
            "0.5344814153767615\n"
          ]
        }
      ],
      "source": [
        "mae = print(mean_absolute_error(y_test, y_pred))"
      ]
    },
    {
      "cell_type": "markdown",
      "metadata": {
        "id": "zd8nPfIT_NXT"
      },
      "source": [
        "Voting Regressor"
      ]
    },
    {
      "cell_type": "code",
      "execution_count": 202,
      "metadata": {
        "id": "c_kd4OnQe7v7"
      },
      "outputs": [],
      "source": [
        "from sklearn.ensemble import VotingRegressor"
      ]
    },
    {
      "cell_type": "code",
      "execution_count": 203,
      "metadata": {
        "id": "D9VYnd4IfRfS"
      },
      "outputs": [],
      "source": [
        "# Create a VotingRegressor instance\n",
        "voting_regressor = VotingRegressor(\n",
        "    estimators=[\n",
        "        ('gradboost', grad),\n",
        "        ('rf', rfm),\n",
        "        ('decision tree', dtree)\n",
        "    ],\n",
        "n_jobs=-1,\n",
        "weights=[1, 1, 1]\n",
        ")\n"
      ]
    },
    {
      "cell_type": "code",
      "execution_count": 204,
      "metadata": {
        "colab": {
          "base_uri": "https://localhost:8080/"
        },
        "id": "xvwnKQMvgexr",
        "outputId": "2463737e-25a0-441d-de59-fb6f5e911bb6"
      },
      "outputs": [
        {
          "output_type": "stream",
          "name": "stdout",
          "text": [
            "GradientBoostingRegressor MAE: 0.5346882406124349\n",
            "RandomForestRegressor MAE: 0.4209342834520982\n",
            "DecisionTreeRegressor MAE: 0.4793810850003458\n",
            "VotingRegressor MAE: 0.4389934526892038\n"
          ]
        }
      ],
      "source": [
        "for model in (grad, rfm,dtree,voting_regressor):\n",
        "    model.fit(X_train, y_train)\n",
        "    y_pred = model.predict(X_test)\n",
        "\n",
        "    # Calculate Mean Absolute Error (MAE)\n",
        "    mae = mean_absolute_error(y_test, y_pred)\n",
        "\n",
        "    # Print the model's name and MAE\n",
        "    print(model.__class__.__name__, \"MAE:\", mae)"
      ]
    },
    {
      "cell_type": "markdown",
      "metadata": {
        "id": "HyChJFbtphXq"
      },
      "source": [
        "Optimization Of Models"
      ]
    },
    {
      "cell_type": "code",
      "execution_count": 205,
      "metadata": {
        "id": "yJXXnrTLqrs_"
      },
      "outputs": [],
      "source": [
        "from sklearn.model_selection import GridSearchCV\n",
        "from sklearn.model_selection import KFold\n"
      ]
    },
    {
      "cell_type": "code",
      "execution_count": 216,
      "metadata": {
        "id": "7XD0znixpeH6"
      },
      "outputs": [],
      "source": [
        "cv = KFold(n_splits=6)\n",
        "# Define the parameter grid\n",
        "PARAMETERS = {\n",
        "    \"max_depth\": [2, 5, 6, 12],\n",
        "    \"min_samples_split\": [2, 5, 7,10],\n",
        "    \"n_estimators\": [100,120, 150]\n",
        "}\n",
        "\n",
        "\n"
      ]
    },
    {
      "cell_type": "code",
      "execution_count": 217,
      "metadata": {
        "id": "qCCuaVa-KE1r"
      },
      "outputs": [],
      "source": [
        "def custom_scorer(y_true, y_pred):\n",
        "    return -mean_absolute_error(y_true, y_pred)  # Using negative MAE for GridSearchCV\n"
      ]
    },
    {
      "cell_type": "code",
      "execution_count": 218,
      "metadata": {
        "id": "RNL1yaK4J-Ht"
      },
      "outputs": [],
      "source": [
        "rfm = RandomForestRegressor(n_jobs=-1)\n",
        "\n",
        "scoring = make_scorer(mean_squared_error, greater_is_better=False)\n"
      ]
    },
    {
      "cell_type": "code",
      "execution_count": 219,
      "metadata": {
        "id": "2iNy9Eh7J7vI"
      },
      "outputs": [],
      "source": [
        "# Create a GridSearchCV instance\n",
        "model_gs = GridSearchCV(\n",
        "    rfm,\n",
        "    param_grid=PARAMETERS,\n",
        "    cv=cv,\n",
        "    scoring=scoring,\n",
        "    verbose=0\n",
        ")\n"
      ]
    },
    {
      "cell_type": "code",
      "execution_count": 220,
      "metadata": {
        "id": "mdwf5UkuJU6H"
      },
      "outputs": [],
      "source": [
        "# Fit the model to the training data\n",
        "model_gs.fit(X_train, y_train)\n",
        "\n",
        "# Make predictions\n",
        "y_pred = model_gs.predict(X_test)"
      ]
    },
    {
      "cell_type": "markdown",
      "metadata": {
        "id": "5HsxE4cEfF1b"
      },
      "source": [
        "Testing with Players 22"
      ]
    },
    {
      "cell_type": "code",
      "execution_count": 243,
      "metadata": {
        "colab": {
          "base_uri": "https://localhost:8080/"
        },
        "id": "rFv3pnIyfJ8X",
        "outputId": "d91bd261-16d6-4aa9-8be2-c2f3968ce876"
      },
      "outputs": [
        {
          "output_type": "stream",
          "name": "stderr",
          "text": [
            "<ipython-input-243-758a12422fcc>:1: DtypeWarning: Columns (25,108) have mixed types. Specify dtype option on import or set low_memory=False.\n",
            "  sports_data_22=pd.read_csv('/content/drive/MyDrive/MIDSEM PROJECT/players_22.csv')\n"
          ]
        }
      ],
      "source": [
        "sports_data_22=pd.read_csv('/content/drive/MyDrive/MIDSEM PROJECT/players_22.csv')"
      ]
    },
    {
      "cell_type": "code",
      "execution_count": 244,
      "metadata": {
        "id": "A8006rny4Wzo"
      },
      "outputs": [],
      "source": [
        "threshold = 0.30 * len(sports_data_22)\n",
        "\n",
        "# Identify columns with 30% or more NaN values\n",
        "columns_with_nan = sports_data_22.columns[sports_data_22.isna().sum() >= threshold]\n",
        "\n",
        "# Drop the identified columns\n",
        "sports_data_22.drop(columns=columns_with_nan, inplace=True)"
      ]
    },
    {
      "cell_type": "code",
      "execution_count": 245,
      "metadata": {
        "id": "34ZKCxsU4jKB"
      },
      "outputs": [],
      "source": [
        "num_columns = sports_data_22.select_dtypes(include=['int64', 'float64'])"
      ]
    },
    {
      "cell_type": "code",
      "execution_count": 246,
      "metadata": {
        "id": "MjWeKWBp4qtB"
      },
      "outputs": [],
      "source": [
        "obj_columns = sports_data_22.select_dtypes(include=['object']).columns"
      ]
    },
    {
      "cell_type": "code",
      "execution_count": 247,
      "metadata": {
        "id": "x34XVZjf40hO"
      },
      "outputs": [],
      "source": [
        "for column in obj_columns:\n",
        "    sports_data_22[column] = pd.factorize(sports_data_22[column])[0]\n"
      ]
    },
    {
      "cell_type": "code",
      "execution_count": 248,
      "metadata": {
        "id": "tibXaT6r5AHK"
      },
      "outputs": [],
      "source": [
        "\n",
        "# Create a SimpleImputer instance with your chosen strategy\n",
        "imputer = SimpleImputer(strategy='mean')\n",
        "\n",
        "# Iterate over columns and impute\n",
        "for column in sports_data_22:\n",
        "    sports_data_22[column] = imputer.fit_transform(sports_data_22[[column]])\n"
      ]
    },
    {
      "cell_type": "code",
      "execution_count": 249,
      "metadata": {
        "id": "t9gqXQyYmdB2"
      },
      "outputs": [],
      "source": [
        "#We picked the top 10\n",
        "selected_data =['overall','movement_reactions','passing','dribbling','age','mentality_composure','release_clause_eur','power_shot_power','wage_eur','value_eur']"
      ]
    },
    {
      "cell_type": "code",
      "execution_count": 250,
      "metadata": {
        "id": "E1WiPlfHgrER"
      },
      "outputs": [],
      "source": [
        "sports_data_22 = sports_data_22[selected_data]"
      ]
    },
    {
      "cell_type": "code",
      "execution_count": 251,
      "metadata": {
        "id": "XF5zeDQ5rbEC"
      },
      "outputs": [],
      "source": [
        "y_new= sports_data_22['overall']\n"
      ]
    },
    {
      "cell_type": "code",
      "execution_count": 252,
      "metadata": {
        "id": "Io87eJSfrer3"
      },
      "outputs": [],
      "source": [
        "x_new = sports_data_22.drop('overall',axis=1)"
      ]
    },
    {
      "cell_type": "code",
      "execution_count": 253,
      "metadata": {
        "id": "e2oJZ3a2ruQG"
      },
      "outputs": [],
      "source": [
        "\n",
        "sc= StandardScaler()"
      ]
    },
    {
      "cell_type": "code",
      "execution_count": 254,
      "metadata": {
        "id": "TLf-SAkFr195"
      },
      "outputs": [],
      "source": [
        "scaled_new = sc.fit_transform(x_new)"
      ]
    },
    {
      "cell_type": "code",
      "execution_count": 255,
      "metadata": {
        "id": "6VvvxbnrsA6p"
      },
      "outputs": [],
      "source": [
        "sports_data_22=pd.DataFrame(scaled_new,columns=x_new.columns)"
      ]
    },
    {
      "cell_type": "code",
      "execution_count": 256,
      "metadata": {
        "id": "NyXxmNA_KsDC"
      },
      "outputs": [],
      "source": [
        "X_train_new, X_test_new, y_train_new, y_test_new = train_test_split(x_new, y_new, test_size=0.2, random_state=42)\n"
      ]
    },
    {
      "cell_type": "markdown",
      "metadata": {
        "id": "aLa4DqQ58MKq"
      },
      "source": [
        "Testing with random forest regressor"
      ]
    },
    {
      "cell_type": "code",
      "execution_count": 261,
      "metadata": {
        "id": "sJqk5Ip9sOdz"
      },
      "outputs": [],
      "source": [
        "# Now you can make predictions on the imputed data\n",
        "y_pred_new = rfm.predict(x_new)\n"
      ]
    },
    {
      "cell_type": "code",
      "execution_count": 262,
      "metadata": {
        "colab": {
          "base_uri": "https://localhost:8080/"
        },
        "id": "RzCDMCsq85Yv",
        "outputId": "2e4fcc0a-9497-40c4-ecd6-acd952df9a53"
      },
      "outputs": [
        {
          "output_type": "stream",
          "name": "stdout",
          "text": [
            "0.7076712233830587\n"
          ]
        }
      ],
      "source": [
        "maeee = print(mean_absolute_error(y_new, y_pred_new))"
      ]
    },
    {
      "cell_type": "markdown",
      "metadata": {
        "id": "lZnx3BFU8Quy"
      },
      "source": [
        "Testing with Decision Tree Regressor"
      ]
    },
    {
      "cell_type": "code",
      "execution_count": 263,
      "metadata": {
        "id": "DGCmKRX_8Zy-"
      },
      "outputs": [],
      "source": [
        "# Now you can make predictions on the imputed data\n",
        "y_pred_new = dtree.predict(x_new)\n"
      ]
    },
    {
      "cell_type": "code",
      "execution_count": 264,
      "metadata": {
        "colab": {
          "base_uri": "https://localhost:8080/"
        },
        "id": "7VwDgmvh8tVE",
        "outputId": "a93c33e9-04f4-4f19-f1d3-fe3fe24e82eb"
      },
      "outputs": [
        {
          "output_type": "stream",
          "name": "stdout",
          "text": [
            "0.7980615901459159\n"
          ]
        }
      ],
      "source": [
        "maee = print(mean_absolute_error(y_new, y_pred_new))"
      ]
    },
    {
      "cell_type": "markdown",
      "metadata": {
        "id": "XX1gp6sB8U9K"
      },
      "source": [
        "Testing with Gradient Boost Regressor"
      ]
    },
    {
      "cell_type": "code",
      "execution_count": 265,
      "metadata": {
        "id": "_eeQpTMG9TQe"
      },
      "outputs": [],
      "source": [
        "# Now you can make predictions on the imputed data\n",
        "y_pred_new = grad.predict(x_new)\n"
      ]
    },
    {
      "cell_type": "code",
      "execution_count": 266,
      "metadata": {
        "colab": {
          "base_uri": "https://localhost:8080/"
        },
        "id": "yK1W2Xe59Vcn",
        "outputId": "25bb446a-beda-49cb-9e88-d3cb0cbe3a25"
      },
      "outputs": [
        {
          "output_type": "stream",
          "name": "stdout",
          "text": [
            "0.6923099046281611\n"
          ]
        }
      ],
      "source": [
        "maeee = print(mean_absolute_error(y_new, y_pred_new))"
      ]
    },
    {
      "cell_type": "markdown",
      "source": [
        "Saving the Random Forest Regressor"
      ],
      "metadata": {
        "id": "-y4N4yu_oafp"
      }
    },
    {
      "cell_type": "code",
      "execution_count": 267,
      "metadata": {
        "colab": {
          "base_uri": "https://localhost:8080/"
        },
        "id": "bHfbeSTCk8j2",
        "outputId": "6306c835-b86c-4355-8d11-f4d49e0f32fc"
      },
      "outputs": [
        {
          "output_type": "stream",
          "name": "stdout",
          "text": [
            "[59.98666667 63.92       58.54       ... 72.29333333 62.74\n",
            " 61.22      ]\n"
          ]
        }
      ],
      "source": [
        "import pickle\n",
        "filename = 'finalized_best_model.pkl'\n",
        "pickle.dump(rfm, open(filename, 'wb'))\n",
        "# load the model from disk\n",
        "loaded_model = pickle.load(open(filename, 'rb'))\n",
        "y_pred = loaded_model.predict(X_test)\n",
        "print(y_pred)"
      ]
    },
    {
      "cell_type": "code",
      "execution_count": null,
      "metadata": {
        "id": "zjTSGUoNByHK"
      },
      "outputs": [],
      "source": []
    }
  ],
  "metadata": {
    "colab": {
      "provenance": []
    },
    "kernelspec": {
      "display_name": "Python 3",
      "name": "python3"
    },
    "language_info": {
      "name": "python"
    }
  },
  "nbformat": 4,
  "nbformat_minor": 0
}